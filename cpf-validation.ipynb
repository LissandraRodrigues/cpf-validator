{
 "cells": [
  {
   "cell_type": "code",
   "execution_count": 16,
   "id": "b8956c49",
   "metadata": {},
   "outputs": [],
   "source": [
    "import re\n",
    "\n",
    "# Validates the CPF, both formatting and verifying digits.\n",
    "def cpfValidator(cpf: str) -> bool:\n",
    "\n",
    "    # The expected format is: 000.000.000-00\n",
    "    if not re.match(r'\\d{3}\\.\\d{3}\\.\\d{3}-\\d{2}', cpf):\n",
    "        return False\n",
    "\n",
    "    # Remove the dots and dash.\n",
    "    numbers = [int(digit) for digit in cpf if digit.isdigit()]\n",
    "    \n",
    "    # Checks if the numbers are all the same.\n",
    "    if len(set(numbers)) == 1:\n",
    "        return False\n",
    "\n",
    "    # Validation of the first check digit.\n",
    "    sum_of_products = sum(a * b for a, b in zip(numbers[0:9], range(10, 1, -1)))\n",
    "    \n",
    "    expected_digit = (sum_of_products * 10 % 11) % 10\n",
    "    \n",
    "    if numbers[9] != expected_digit:\n",
    "        return False\n",
    "\n",
    "    # Validation of the second check digit.\n",
    "    sum_of_products = sum(a * b for a, b in zip(numbers[0:10], range(11, 1, -1)))\n",
    "    \n",
    "    expected_digit = (sum_of_products * 10 % 11) % 10\n",
    "    \n",
    "    if numbers[10] != expected_digit:\n",
    "        return False\n",
    "\n",
    "    return True"
   ]
  },
  {
   "cell_type": "code",
   "execution_count": 17,
   "id": "7135ba8f",
   "metadata": {},
   "outputs": [
    {
     "data": {
      "text/plain": [
       "False"
      ]
     },
     "execution_count": 17,
     "metadata": {},
     "output_type": "execute_result"
    }
   ],
   "source": [
    "cpfValidator(\"000.000.000-00\")"
   ]
  }
 ],
 "metadata": {
  "kernelspec": {
   "display_name": "Python 3",
   "language": "python",
   "name": "python3"
  },
  "language_info": {
   "codemirror_mode": {
    "name": "ipython",
    "version": 3
   },
   "file_extension": ".py",
   "mimetype": "text/x-python",
   "name": "python",
   "nbconvert_exporter": "python",
   "pygments_lexer": "ipython3",
   "version": "3.11.1 (tags/v3.11.1:a7a450f, Dec  6 2022, 19:58:39) [MSC v.1934 64 bit (AMD64)]"
  },
  "vscode": {
   "interpreter": {
    "hash": "2b31f14eff90e6e9ef0f65c37bc0154e16453d193c05ebf2f791a62cc6ff34e5"
   }
  }
 },
 "nbformat": 4,
 "nbformat_minor": 5
}
